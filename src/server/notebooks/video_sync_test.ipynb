{
 "cells": [
  {
   "cell_type": "code",
   "execution_count": 1,
   "id": "1a533a41",
   "metadata": {},
   "outputs": [],
   "source": [
    "import ffmpeg\n",
    "\n",
    "import sys\n",
    "from pprint import pprint # for printing Python dictionaries in a human-readable way"
   ]
  },
  {
   "cell_type": "code",
   "execution_count": 2,
   "id": "0ca82483",
   "metadata": {},
   "outputs": [],
   "source": [
    "file_path = '../video_data/cvlabrpi1/video_13.mp4'"
   ]
  },
  {
   "cell_type": "code",
   "execution_count": null,
   "id": "1e65f01e",
   "metadata": {},
   "outputs": [],
   "source": [
    "print(ffmpeg.probe(file_path))"
   ]
  },
  {
   "cell_type": "code",
   "execution_count": 4,
   "id": "71a7c470",
   "metadata": {},
   "outputs": [],
   "source": [
    "timestamp = ffmpeg.probe(\n",
    "        file_path,\n",
    "        select_streams='v:0',\n",
    "        show_entries='packet=pts_time,flags',\n",
    "        loglevel='error'\n",
    "    )"
   ]
  },
  {
   "cell_type": "code",
   "execution_count": null,
   "id": "ba5f8d37",
   "metadata": {},
   "outputs": [],
   "source": [
    "print(timestamp.keys())"
   ]
  },
  {
   "cell_type": "code",
   "execution_count": null,
   "id": "2cf4ff4b",
   "metadata": {},
   "outputs": [],
   "source": [
    "print(len(timestamp['packets']))"
   ]
  },
  {
   "cell_type": "code",
   "execution_count": null,
   "id": "5d83e4ef",
   "metadata": {},
   "outputs": [],
   "source": [
    "timestamp['packets'][0]\n"
   ]
  },
  {
   "cell_type": "code",
   "execution_count": null,
   "id": "3381a403",
   "metadata": {},
   "outputs": [],
   "source": [
    "prev_pts_time = 0\n",
    "pts_dif = []\n",
    "for pts_dic in  timestamp['packets'][1:]:\n",
    "    pts_time = float(pts_dic['pts_time'])\n",
    "    pts_dif.append(pts_time - prev_pts_time)\n",
    "    prev_pts_time = pts_time\n",
    "\n",
    "#count unique values of pts_dif\n",
    "from collections import Counter\n",
    "print(Counter(pts_dif))"
   ]
  },
  {
   "cell_type": "code",
   "execution_count": null,
   "id": "a90b2a56",
   "metadata": {},
   "outputs": [],
   "source": [
    "\n"
   ]
  },
  {
   "cell_type": "code",
   "execution_count": null,
   "id": "a47a19d7",
   "metadata": {},
   "outputs": [],
   "source": [
    "\n",
    "\n",
    "\n",
    "# uses ffprobe command to extract all possible metadata from the media file\n",
    "pprint(ffmpeg.probe(file_path))"
   ]
  },
  {
   "cell_type": "code",
   "execution_count": 9,
   "id": "5f11f698",
   "metadata": {},
   "outputs": [],
   "source": [
    "from ipywidgets import interact\n",
    "from matplotlib import pyplot as plt\n",
    "import ffmpeg\n",
    "import ipywidgets as widgets\n",
    "import numpy as np"
   ]
  },
  {
   "cell_type": "code",
   "execution_count": null,
   "id": "302784ba",
   "metadata": {},
   "outputs": [],
   "source": [
    "from fractions import Fraction\n",
    "\n",
    "def get_video_info(file_pa):\n",
    "\n",
    "    probe = ffmpeg.probe(file_pa)\n",
    "    video_info = next(s for s in probe['streams'] if s['codec_type'] == 'video')\n",
    "    # pprint(video_info)\n",
    "    width = int(video_info['width'])\n",
    "    height = int(video_info['height'])\n",
    "\n",
    "    duration = float(video_info['duration'])\n",
    "    frame_rate = float(Fraction(video_info['r_frame_rate']))\n",
    "\n",
    "    num_frames = int(duration * frame_rate)\n",
    "    \n",
    "    return video_info, num_frames\n",
    "\n",
    "file_path = '../video_data/cvlabrpi1/video_13.mp4'\n",
    "get_video_info(file_path)[1]\n"
   ]
  },
  {
   "cell_type": "code",
   "execution_count": null,
   "id": "a6d6dad1",
   "metadata": {},
   "outputs": [],
   "source": [
    "from datetime import datetime, timedelta, date\n",
    "from fractions import Fraction\n",
    "\n",
    "def get_all_timestamp_from_stream(file_path, start_time, offset_sec=0):\n",
    "    \"\"\"Get all timestamps of a video file\n",
    "    Args:\n",
    "        file_path (str): path to video file\n",
    "        start_time (float): start time of the video datetime object\n",
    "        offset_sec (float): offset time in seconds\n",
    "\n",
    "    \"\"\"\n",
    "    timestamp = ffmpeg.probe(\n",
    "        file_path,\n",
    "        select_streams='v:0',\n",
    "        show_entries='packet=pts_time,flags',\n",
    "        loglevel='error'\n",
    "    )\n",
    "\n",
    "    time_stamps = []\n",
    "    for pts_dic in  timestamp['packets']:\n",
    "        pts_time = float(pts_dic['pts_time']) + offset_sec\n",
    "        pts_time = start_time + timedelta(seconds=pts_time)\n",
    "        pts_time = pts_time.time()\n",
    "        time_stamps.append(pts_time)\n",
    "\n",
    "    return time_stamps\n",
    "\n",
    "\n",
    "def get_all_timestamp_from_rpi(file_path, start_time, offset_sec=0):\n",
    "    pts_file = file_path.replace('.mp4', '.txt')\n",
    "\n",
    "    with open(pts_file, 'r') as f:\n",
    "        lines = f.readlines()\n",
    "\n",
    "    time_stamps = []\n",
    "    prev_gloabl_time = -1\n",
    "    prev_relative_time = -1\n",
    "    start_time = None\n",
    "    for line in lines[1:]:\n",
    "        global_time, relative_time = line.split(\",\")\n",
    "        relative_time = float(relative_time)\n",
    "\n",
    "        if start_time is None:\n",
    "            start_time = datetime.fromtimestamp(int(global_time) / 1e9)\n",
    "\n",
    "        # if relative_time < 0:\n",
    "        #     prev_relative_time = relative_time\n",
    "        #     prev_gloabl_time = global_time\n",
    "        #     continue\n",
    "\n",
    "        # if prev_relative_time < 0:\n",
    "        #     prev_relative_time = None\n",
    "        #     global_time = datetime.datetime.fromtimestamp(int(global_time) / 1e9)\n",
    "\n",
    "        #     time_stamps.append(start_time + timedelta(seconds=relative_time))\n",
    "\n",
    "        global_time = start_time + timedelta(milliseconds=relative_time)\n",
    "        pts_time = global_time.time()\n",
    "        time_stamps.append(pts_time)\n",
    "\n",
    "    return time_stamps\n",
    "\n",
    "\n",
    "def get_all_timestamp_from_framerate(file_path, start_time, offset_sec=0):\n",
    "    \"\"\"Get all timestamps of a video file\n",
    "    Args:\n",
    "        file_path (str): path to video file\n",
    "        start_time (float): start time of the video datetime object\n",
    "        offset_sec (float): offset time in seconds\n",
    "\n",
    "    \"\"\"\n",
    "    probe = ffmpeg.probe(file_path)\n",
    "    video_info = next(s for s in probe['streams'] if s['codec_type'] == 'video')\n",
    "\n",
    "    duration = float(video_info['duration'])\n",
    "    frame_rate = float(Fraction(video_info['r_frame_rate']))\n",
    "\n",
    "    num_frames = int(duration * frame_rate)\n",
    "\n",
    "    time_stamps = []\n",
    "    for frame in range(num_frames):\n",
    "        pts_time = frame / frame_rate + offset_sec\n",
    "        #remove date keep only time\n",
    "        pts_time = (start_time + timedelta(seconds=pts_time))\n",
    "        pts_time = pts_time.time()\n",
    "        time_stamps.append(pts_time)\n",
    "\n",
    "    return time_stamps\n",
    "\n",
    "file_path = '../video_data/cvlabrpi1/video_52.mp4'\n",
    "\n",
    "video_info, nb_frames = get_video_info(file_path)\n",
    "start_time = datetime.strptime(video_info[\"tags\"][\"creation_time\"], '%Y-%m-%dT%H:%M:%S.%fZ')\n",
    "offset_sec = 0\n",
    "\n",
    "tmps_ffprob = get_all_timestamp_from_stream(file_path, start_time, offset_sec=offset_sec)\n",
    "tmps_rpi = get_all_timestamp_from_rpi(file_path, start_time, offset_sec=offset_sec)\n",
    "tmps_framerate = get_all_timestamp_from_framerate(file_path, start_time, offset_sec=offset_sec)\n",
    "\n",
    "print(len(tmps_ffprob))\n",
    "print(len(tmps_rpi))\n",
    "print(len(tmps_framerate))\n",
    "\n"
   ]
  },
  {
   "cell_type": "code",
   "execution_count": null,
   "id": "249a363f",
   "metadata": {},
   "outputs": [],
   "source": [
    "print(file_path)"
   ]
  },
  {
   "cell_type": "code",
   "execution_count": null,
   "id": "a40f31e7",
   "metadata": {},
   "outputs": [],
   "source": [
    "def get_frame(file_path, frame_number, width, height):\n",
    "    out, err = (\n",
    "        ffmpeg\n",
    "        .input(file_path)\n",
    "        .filter_('select', 'gte(n,{})'.format(frame_number))\n",
    "        .output('pipe:', format='rawvideo', pix_fmt='rgb24', vframes=1)\n",
    "        .run(capture_stdout=True, capture_stderr=True)\n",
    "    )\n",
    "    frame = (\n",
    "        np\n",
    "        .frombuffer(out, np.uint8)\n",
    "        .reshape([height, width, 3])\n",
    "    )\n",
    "    return frame\n",
    "\n",
    "def visualize_frame_and_timestamp(file_path):\n",
    "\n",
    "    video_info, num_frames = get_video_info(file_path)\n",
    "    start_time = datetime.strptime(video_info[\"tags\"][\"creation_time\"], '%Y-%m-%dT%H:%M:%S.%fZ')\n",
    "    \n",
    "    width = int(video_info['width'])\n",
    "    height = int(video_info['height'])\n",
    "\n",
    "    tmps_ffprob = get_all_timestamp_from_stream(file_path, start_time, offset_sec=offset_sec)\n",
    "    tmps_rpi = get_all_timestamp_from_rpi(file_path, start_time, offset_sec=offset_sec)\n",
    "    tmps_framerate = get_all_timestamp_from_framerate(file_path, start_time, offset_sec=offset_sec)\n",
    "\n",
    "    # @interact(frame=(0, num_frames-1), offset_sec=(-10, 10, 1), offset_milli_sec=(-1000, 1000, 100))\n",
    "    def show_frame(frame=0, offset_sec=0, offset_milli_sec=0):\n",
    "        plt.figure(figsize=(15,15))\n",
    "        plt.imshow(get_frame(file_path, frame, width, height))\n",
    "        plt.title(f\"frame {frame} - \\n ffp: {(datetime.combine(date(1,1,1),tmps_ffprob[frame]) + timedelta(seconds=offset_sec, milliseconds=offset_milli_sec)).time()}, \\n rpi: {(datetime.combine(date(1,1,1),tmps_rpi[frame]) + timedelta(seconds=offset_sec, milliseconds=offset_milli_sec)).time()}, \\n fra: {(datetime.combine(date(1,1,1),tmps_framerate[frame]) + timedelta(seconds=offset_sec, milliseconds=offset_milli_sec)).time()},\")\n",
    "        #     plt.imshow(get_frame(file_path, frame, width, height))\n",
    "        plt.axis('off')  # to hide the axis values\n",
    "        plt.show()\n",
    "\n",
    "    return interact(show_frame, frame=(0, num_frames-1), offset_sec=(-10, 10, 1), offset_milli_sec=(-1000, 1000, 1))\n",
    "\n",
    "file_path = '../video_data/cvlabrpi1/video_52.mp4'\n",
    "visualize_frame_and_timestamp(file_path)"
   ]
  },
  {
   "cell_type": "code",
   "execution_count": null,
   "id": "13b6c108",
   "metadata": {},
   "outputs": [],
   "source": [
    "idx = 5000\n",
    "\n",
    "print(tmps_ffprob[idx], tmps_rpi[idx], tmps_framerate[idx])"
   ]
  },
  {
   "cell_type": "code",
   "execution_count": 66,
   "id": "f3d99c10",
   "metadata": {},
   "outputs": [],
   "source": [
    "video_info, duration = get_video_info(file_path)\n"
   ]
  },
  {
   "cell_type": "code",
   "execution_count": null,
   "id": "a6952561",
   "metadata": {},
   "outputs": [],
   "source": [
    "\n"
   ]
  },
  {
   "cell_type": "code",
   "execution_count": 14,
   "id": "98fbc4e6",
   "metadata": {},
   "outputs": [],
   "source": [
    "%matplotlib widget"
   ]
  },
  {
   "cell_type": "code",
   "execution_count": 48,
   "id": "cdd8ee26",
   "metadata": {},
   "outputs": [],
   "source": [
    "file_path_1 = '../video_data/cvlabrpi1/video_12.mp4'\n",
    "file_path_2 = '../video_data/cvlabrpi1/video_13.mp4'"
   ]
  },
  {
   "cell_type": "code",
   "execution_count": 49,
   "id": "2c6abda7",
   "metadata": {},
   "outputs": [],
   "source": [
    "from datetime import datetime\n",
    "\n",
    "def get_time_offset(tms1, tms2):\n",
    "    datetime1 = datetime.strptime(tms1, \"%Y-%m-%dT%H:%M:%S.%fZ\")\n",
    "    datetime2 = datetime.strptime(tms2, \"%Y-%m-%dT%H:%M:%S.%fZ\")\n",
    "\n",
    "    # Calculate the difference\n",
    "    time_difference = datetime2 - datetime1\n",
    "\n",
    "    # Get the difference in seconds\n",
    "    seconds_difference = time_difference.total_seconds()\n",
    "    \n",
    "    return seconds_difference\n"
   ]
  },
  {
   "cell_type": "code",
   "execution_count": null,
   "id": "4f6432b5",
   "metadata": {},
   "outputs": [],
   "source": [
    "info1, num_frames1 = get_video_info(file_path_1)\n",
    "info2, num_frames2 = get_video_info(file_path_2)\n",
    "\n",
    "# pprint(info1)\n",
    "\n",
    "print(\"num_frames\", num_frames1, num_frames2)\n",
    "print(\"start_time\", info1[\"start_time\"], info2[\"start_time\"])\n",
    "print(\"duration\", info1[\"duration\"], info2[\"duration\"])\n",
    "print(\"creation_time\", info1[\"tags\"][\"creation_time\"], info2[\"tags\"][\"creation_time\"])"
   ]
  },
  {
   "cell_type": "code",
   "execution_count": null,
   "id": "b70c6c50",
   "metadata": {},
   "outputs": [],
   "source": [
    "get_time_offset(info1[\"tags\"][\"creation_time\"], info2[\"tags\"][\"creation_time\"])"
   ]
  },
  {
   "cell_type": "code",
   "execution_count": null,
   "id": "e654cdc3",
   "metadata": {},
   "outputs": [],
   "source": [
    "def "
   ]
  },
  {
   "cell_type": "code",
   "execution_count": null,
   "id": "3cad6ce3",
   "metadata": {},
   "outputs": [],
   "source": [
    "import ffmpeg\n",
    "import numpy as np\n",
    "import matplotlib.pyplot as plt\n",
    "from ipywidgets import interact\n",
    "\n",
    "def get_frame(file_path, frame_number, width, height):\n",
    "    out, err = (\n",
    "        ffmpeg\n",
    "        .input(file_path)\n",
    "        .filter_('select', 'gte(n,{})'.format(frame_number))\n",
    "        .output('pipe:', format='rawvideo', pix_fmt='rgb24', vframes=1)\n",
    "        .run(capture_stdout=True, capture_stderr=True)\n",
    "    )\n",
    "    frame = (\n",
    "        np\n",
    "        .frombuffer(out, np.uint8)\n",
    "        .reshape([height, width, 3])\n",
    "    )\n",
    "    return frame\n",
    "\n",
    "width = 1920\n",
    "height = 1080\n",
    "\n",
    "\n",
    "@interact(frame=(0, num_frames1-1))\n",
    "def show_frame(frame=0):\n",
    "    plt.figure(figsize=(15,15))\n",
    "    plt.imshow(get_frame(file_path_1, frame, width, height))\n",
    "    #     plt.imshow(get_frame(file_path, frame, width, height))\n",
    "    plt.axis('off')  # to hide the axis values\n",
    "    plt.show()"
   ]
  },
  {
   "cell_type": "code",
   "execution_count": null,
   "id": "512f09d8",
   "metadata": {},
   "outputs": [],
   "source": [
    "import ffmpeg\n",
    "import numpy as np\n",
    "import matplotlib.pyplot as plt\n",
    "from ipywidgets import interact\n",
    "\n",
    "def get_frame(file_path, frame_number, width, height):\n",
    "    out, err = (\n",
    "        ffmpeg\n",
    "        .input(file_path)\n",
    "        .filter_('select', 'gte(n,{})'.format(frame_number))\n",
    "        .output('pipe:', format='rawvideo', pix_fmt='rgb24', vframes=1)\n",
    "        .run(capture_stdout=True, capture_stderr=True)\n",
    "    )\n",
    "    frame = (\n",
    "        np\n",
    "        .frombuffer(out, np.uint8)\n",
    "        .reshape([height, width, 3])\n",
    "    )\n",
    "    return frame\n",
    "\n",
    "\n",
    "\n",
    "\n",
    "@interact(frame=(0, num_frames2-1))\n",
    "def show_frame(frame=0):\n",
    "    plt.figure(figsize=(15,15))\n",
    "    plt.imshow(get_frame(file_path_2, frame, width, height)[800:731:-1,1072:750:-1,:])\n",
    "    #     plt.imshow(get_frame(file_path, frame, width, height))\n",
    "    plt.axis('off')  # to hide the axis values\n",
    "    plt.show()"
   ]
  },
  {
   "cell_type": "code",
   "execution_count": null,
   "id": "a1571971",
   "metadata": {},
   "outputs": [],
   "source": [
    "out, err = (\n",
    "    ffmpeg\n",
    "    .input(file_path)\n",
    "    .output('pipe:', format='rawvideo', pix_fmt='rgb24')\n",
    "    .run(capture_stdout=True)\n",
    ")\n",
    "video = (\n",
    "    np\n",
    "    .frombuffer(out, np.uint8)\n",
    "    .reshape([-1, height, width, 3])\n",
    ")"
   ]
  },
  {
   "cell_type": "code",
   "execution_count": null,
   "id": "34dc4486",
   "metadata": {},
   "outputs": [],
   "source": [
    "video.shape"
   ]
  },
  {
   "cell_type": "code",
   "execution_count": null,
   "id": "bdf3e48f",
   "metadata": {
    "scrolled": false
   },
   "outputs": [],
   "source": [
    "\n",
    "@interact(frame=(0, num_frames))\n",
    "def show_frame(frame=0):\n",
    "    plt.figure(figsize=(15,15))\n",
    "    plt.imshow(video[frame,1000:800:-1,850:1200,:])"
   ]
  }
 ],
 "metadata": {
  "kernelspec": {
   "display_name": "Python 3",
   "language": "python",
   "name": "python3"
  },
  "language_info": {
   "codemirror_mode": {
    "name": "ipython",
    "version": 3
   },
   "file_extension": ".py",
   "mimetype": "text/x-python",
   "name": "python",
   "nbconvert_exporter": "python",
   "pygments_lexer": "ipython3",
   "version": "3.10.13"
  }
 },
 "nbformat": 4,
 "nbformat_minor": 5
}
